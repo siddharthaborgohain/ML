{
  "nbformat": 4,
  "nbformat_minor": 0,
  "metadata": {
    "colab": {
      "name": "Basics Of Machine Learning Intro.ipynb",
      "provenance": [],
      "authorship_tag": "ABX9TyNlA3EB8YwtFs3WFWQ+xspv",
      "include_colab_link": true
    },
    "kernelspec": {
      "name": "python3",
      "display_name": "Python 3"
    },
    "language_info": {
      "name": "python"
    }
  },
  "cells": [
    {
      "cell_type": "markdown",
      "metadata": {
        "id": "view-in-github",
        "colab_type": "text"
      },
      "source": [
        "<a href=\"https://colab.research.google.com/github/siddharthaborgohain/ML/blob/main/Basics_Of_Machine_Learning_Intro.ipynb\" target=\"_parent\"><img src=\"https://colab.research.google.com/assets/colab-badge.svg\" alt=\"Open In Colab\"/></a>"
      ]
    },
    {
      "cell_type": "markdown",
      "source": [
        "**What is Machine Learning**"
      ],
      "metadata": {
        "id": "d6yAP-GQ8u9c"
      }
    },
    {
      "cell_type": "markdown",
      "source": [
        "*Machine Learning is a subset of Artificial Intelengence , It uses Statistics to analyse ,visualize ,forcast and predict a model using the previous data*"
      ],
      "metadata": {
        "id": "do3gLrEV88f0"
      }
    },
    {
      "cell_type": "markdown",
      "source": [
        "*Machine Learning is broady divided into two categories*\n",
        "\n",
        "\n",
        "1.   Supervised Learning:- this method of ML is used for the dataset  which have labelled data or dependent variables.\n",
        "2.   Unsupervised Learning:-  This method is used for the datasets which dont aquire any dependent variable or labelled data. \n",
        "\n"
      ],
      "metadata": {
        "id": "nUVfNSIKETJZ"
      }
    },
    {
      "cell_type": "markdown",
      "source": [
        "There ate two types of **SUPERVISED LEARNING**:\n",
        "\n",
        "\n",
        "1.   for Regression Problem\n",
        "2.   for Classification Problem \n",
        "\n"
      ],
      "metadata": {
        "id": "2RPkrDEAGZPf"
      }
    },
    {
      "cell_type": "code",
      "source": [
        ""
      ],
      "metadata": {
        "id": "1m8Gl8iqGCgP"
      },
      "execution_count": null,
      "outputs": []
    }
  ]
}